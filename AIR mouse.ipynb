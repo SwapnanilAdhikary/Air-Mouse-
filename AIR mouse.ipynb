{
 "cells": [
  {
   "cell_type": "code",
   "execution_count": 114,
   "id": "29095193-c4a9-4adc-bac8-674aa199f5ff",
   "metadata": {},
   "outputs": [],
   "source": [
    "import cv2\n",
    "import mediapipe as mp\n",
    "import pyautogui\n",
    "from pynput.mouse import Button, Controller\n",
    "mouse = Controller()\n",
    "import random"
   ]
  },
  {
   "cell_type": "code",
   "execution_count": 115,
   "id": "1ddc735f-d1aa-4270-b082-11d62669179b",
   "metadata": {},
   "outputs": [],
   "source": [
    "import numpy as np"
   ]
  },
  {
   "cell_type": "code",
   "execution_count": 116,
   "id": "ea7e1716-25fe-420b-a869-61dc7c391db1",
   "metadata": {},
   "outputs": [],
   "source": [
    "def get_angle(a,b,c):\n",
    "    radians = np.arctan2(c[1] - b[1],c[0] - b[0]) - np.arctan2(a[1] - b[1], a[0] - b[0])\n",
    "    angle = np.abs(np.degrees(radians))\n",
    "    return angle"
   ]
  },
  {
   "cell_type": "code",
   "execution_count": 117,
   "id": "be9ff34e-7b45-41e9-b50d-d25be30fb68b",
   "metadata": {},
   "outputs": [],
   "source": [
    "def get_distance(landmark_list):\n",
    "    if len(landmark_list) <2:\n",
    "        return \n",
    "    (x1,y1),(x2,y2) = landmark_list[0],landmark_list[1]\n",
    "    L = np.hypot(x2-x1,y2-y1)\n",
    "    return np.interp(L,[0,1],[0,1000])"
   ]
  },
  {
   "cell_type": "code",
   "execution_count": 118,
   "id": "d4296b20-30c6-4ab6-8edd-729d8ba1d574",
   "metadata": {},
   "outputs": [],
   "source": [
    "screen_width, screen_height = pyautogui.size()\n",
    "mpHands  = mp.solutions.hands\n",
    "hands = mpHands.Hands(\n",
    "    static_image_mode=False,\n",
    "    model_complexity=1,\n",
    "    min_detection_confidence=0.7,\n",
    "    min_tracking_confidence=0.7,\n",
    "    max_num_hands=1\n",
    ")"
   ]
  },
  {
   "cell_type": "code",
   "execution_count": 119,
   "id": "04c480c4-6ae5-439e-86be-9b689528f7bf",
   "metadata": {},
   "outputs": [],
   "source": [
    "def find_finger_tip(processed):\n",
    "    if processed.multi_hand_landmarks:\n",
    "        hand_landmarks = processed.multi_hand_landmarks[0]\n",
    "        return hand_landmarks.landmark[mpHands.HandLandmark.INDEX_FINGER_TIP]\n",
    "\n",
    "    return None"
   ]
  },
  {
   "cell_type": "code",
   "execution_count": 120,
   "id": "106939bc-97c6-497d-9276-e93a8e655932",
   "metadata": {},
   "outputs": [],
   "source": [
    "def move_mouse(index_finger_tip):\n",
    "    if index_finger_tip is not None:\n",
    "        x = int(index_finger_tip.x* screen_width)\n",
    "        y = int(index_finger_tip.y* screen_height)\n",
    "        pyautogui.moveTo(x,y)"
   ]
  },
  {
   "cell_type": "code",
   "execution_count": 121,
   "id": "b7e147cd-fb82-479e-ae01-c0170e48e743",
   "metadata": {},
   "outputs": [],
   "source": [
    "def is_left_click(landmarks_list,thumb_index_dist):\n",
    "    return (get_angle(landmarks_list[5],landmarks_list[6],landmarks_list[8])  < 50 and \n",
    "           get_angle(landmarks_list[9],landmarks_list[10],landmarks_list[12]) >90 and\n",
    "           thumb_index_dist > 50\n",
    "           )\n",
    "def is_right_click(landmarks_list,thumb_index_dist):\n",
    "    return (get_angle(landmarks_list[9],landmarks_list[10],landmarks_list[12])  < 50 and \n",
    "           get_angle(landmarks_list[5],landmarks_list[6],landmarks_list[8]) >90 and\n",
    "           thumb_index_dist > 50\n",
    "           )\n",
    "def is_double_click(landmarks_list,thumb_index_dist):\n",
    "    return (get_angle(landmarks_list[5],landmarks_list[6],landmarks_list[8])  < 50 and \n",
    "           get_angle(landmarks_list[9],landmarks_list[10],landmarks_list[12]) > 50 and\n",
    "           thumb_index_dist < 50\n",
    "           )\n",
    "def is_screenshot(landmarks_list,thumb_index_dist):\n",
    "    return (get_angle(landmarks_list[5],landmarks_list[6],landmarks_list[8])  < 50 and \n",
    "           get_angle(landmarks_list[9],landmarks_list[10],landmarks_list[12]) <50 and\n",
    "           thumb_index_dist < 50\n",
    "           )    "
   ]
  },
  {
   "cell_type": "code",
   "execution_count": 122,
   "id": "45781c57-d0f0-4d68-95aa-eeeb95b17656",
   "metadata": {},
   "outputs": [],
   "source": [
    "def detect_gestures(frame,landmarks_list,processed):\n",
    "    if len(landmarks_list) >= 21:\n",
    "\n",
    "        index_finger_tip = find_finger_tip(processed)\n",
    "        thumb_index_dist = get_distance([landmarks_list[4],landmarks_list[5]])\n",
    "\n",
    "        if thumb_index_dist < 50 and get_angle(landmarks_list[5], landmarks_list[6],landmarks_list[8]) > 90:\n",
    "            move_mouse(index_finger_tip)\n",
    "\n",
    "        elif is_left_click(landmarks_list,thumb_index_dist):\n",
    "            mouse.press(Button.left)\n",
    "            mouse.release(Button.left)\n",
    "            cv2.putText(frame,\"Left Click\",(50,50),cv2.FONT_HERSHEY_SIMPLEX,1,(0,255,0),2)\n",
    "        elif is_right_click(landmarks_list,thumb_index_dist):\n",
    "            mouse.press(Button.right)\n",
    "            mouse.release(Button.right)\n",
    "            cv2.putText(frame,\"Right Click\",(50,50),cv2.FONT_HERSHEY_SIMPLEX,1,(0,0,255),2)\n",
    "        elif is_double_click(landmarks_list,thumb_index_dist):\n",
    "            pyautogui.doubleClick()\n",
    "            cv2.putText(frame,\"Double Click\",(50,50),cv2.FONT_HERSHEY_SIMPLEX,1,(255,255,0),2)\n",
    "\n",
    "        elif  is_screenshot(landmarks_list,thumb_index_dist):\n",
    "            im1 = pyautogui.screenshot()\n",
    "            label = random.randint(1,1000)\n",
    "            im1.save(f'my_screenshot_{label}.png')\n",
    "            cv2.putText(frame,\"Screent shot taken\",(50,50),cv2.FONT_HERSHEY_SIMPLEX,1,(255,255,0),2)"
   ]
  },
  {
   "cell_type": "code",
   "execution_count": 123,
   "id": "38afb707-4f48-4624-a7f2-00e76421b59f",
   "metadata": {},
   "outputs": [],
   "source": [
    "import cv2\n",
    "import mediapipe as mp\n",
    "\n",
    "def main():\n",
    "    mpHands = mp.solutions.hands\n",
    "    hands = mpHands.Hands()\n",
    "    draw = mp.solutions.drawing_utils\n",
    "    cap = cv2.VideoCapture(0)\n",
    "\n",
    "    if not cap.isOpened():\n",
    "        print(\"Error: Could not open webcam.\")\n",
    "        return\n",
    "\n",
    "    try:\n",
    "        while cap.isOpened():\n",
    "            ret, frame = cap.read()\n",
    "            if not ret:\n",
    "                print(\"Failed to grab frame\")\n",
    "                break\n",
    "            frame = cv2.flip(frame, 1)\n",
    "            \n",
    "            frameRGB = cv2.cvtColor(frame, cv2.COLOR_BGR2RGB)\n",
    "\n",
    "            processed = hands.process(frameRGB)\n",
    "            \n",
    "            landmarks_list = []\n",
    "            if processed.multi_hand_landmarks:\n",
    "                for hand_landmarks in processed.multi_hand_landmarks:\n",
    "                    draw.draw_landmarks(frame, hand_landmarks, mpHands.HAND_CONNECTIONS)\n",
    "                    \n",
    "                    for lm in hand_landmarks.landmark:\n",
    "                        landmarks_list.append((lm.x, lm.y))\n",
    "            detect_gestures(frame,landmarks_list,processed)\n",
    "\n",
    "            cv2.imshow('Frame', frame)\n",
    "            if cv2.waitKey(1) & 0xFF == ord('q'):\n",
    "                break\n",
    "    finally:        \n",
    "        cap.release()\n",
    "        cv2.destroyAllWindows()\n",
    "\n",
    "if __name__ == '__main__':\n",
    "    main()"
   ]
  },
  {
   "cell_type": "code",
   "execution_count": 124,
   "id": "37926076-4f45-476a-bb70-d069dbcafe93",
   "metadata": {},
   "outputs": [],
   "source": [
    "##gotta try angle and distance"
   ]
  },
  {
   "cell_type": "code",
   "execution_count": null,
   "id": "1a4b470a-0846-4b73-9d69-54c79f78d083",
   "metadata": {},
   "outputs": [],
   "source": []
  },
  {
   "cell_type": "code",
   "execution_count": null,
   "id": "b37bb412-c468-4983-995f-f2d381afc66a",
   "metadata": {},
   "outputs": [],
   "source": []
  }
 ],
 "metadata": {
  "kernelspec": {
   "display_name": "Python 3 (ipykernel)",
   "language": "python",
   "name": "python3"
  },
  "language_info": {
   "codemirror_mode": {
    "name": "ipython",
    "version": 3
   },
   "file_extension": ".py",
   "mimetype": "text/x-python",
   "name": "python",
   "nbconvert_exporter": "python",
   "pygments_lexer": "ipython3",
   "version": "3.12.4"
  }
 },
 "nbformat": 4,
 "nbformat_minor": 5
}
